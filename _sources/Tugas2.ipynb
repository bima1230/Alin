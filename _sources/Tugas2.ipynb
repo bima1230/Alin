{
  "nbformat": 4,
  "nbformat_minor": 0,
  "metadata": {
    "colab": {
      "provenance": []
    },
    "kernelspec": {
      "name": "python3",
      "display_name": "Python 3"
    },
    "language_info": {
      "name": "python"
    }
  },
  "cells": [
    {
      "cell_type": "markdown",
      "source": [
        "## Aljabar Matrix\n",
        "Matrix adalah suatu kumpulan bilangan real yang disusun dengan bentuk m x n yang dimana m itu adalah baris dan n kolom\n",
        "\n",
        "pada matrix terdapat beberapa elemen matrix yang terdapat pada suatu bangun matrix, Contoh: Jika menggunkan varibel A $$ [[a_11], [a_1,2], [dst]]$$\n",
        "\n",
        "### Matrix terdiri dari beberapa jenis diantaranya adalah\n",
        "- matrix persegi\n",
        "- matrix kolom\n",
        "- matrix baris\n",
        "- matrix Transpose\n",
        "- matrix diagonal\n",
        "- matrix simetri\n",
        "- matrix segitiga atas dan segitiga bawah\n",
        "- matrix nol\n",
        "- matrix identitas\n",
        "\n",
        "### Operasi Matrix\n",
        "Penjumlahan Matrix\n",
        "\n",
        "Pada penjumlahan matrix,syarat dari penjulahan matrix adalah kedua bangun matrix harus memiliki jumlah kolom dan baris yang sama, agar dapat dijumlahkan satu sama lain semisal Matrix A (3,3) + B (3,3), A (2,3) + B (2,3)\n",
        "jika suatu bangun matrix tidak memiliki jumlah kolom dan baris yang tidak sama maka matrix tidak dapat dijumlahkan karena ada beberapa elemen matrix yang tidak memiliki pasangan\n",
        "\n",
        "\n",
        "\n",
        "\n"
      ],
      "metadata": {
        "id": "rXNqlaH5R1O6"
      }
    },
    {
      "cell_type": "code",
      "source": [
        "# saya disuruh mebuat matrik A (3x3) B (3x3) C (3x2)\n",
        "#\n",
        "\n",
        "import numpy as np\n",
        "A=np.array ([[8,9,1],[1,2,3],[2,1,1]])\n",
        "print(\"a\\n\", A)\n",
        "\n",
        "B=np.array([[2,1,9],[4,3,2],[3,4,4]])\n",
        "print(\"b\\n\", B)\n",
        "\n",
        "C=np.array([[3,3],[1,2],[2,1]])\n",
        "print(\"c\\n\", C)"
      ],
      "metadata": {
        "colab": {
          "base_uri": "https://localhost:8080/"
        },
        "id": "CebS7LO47UVE",
        "outputId": "684cb8f2-fe93-4019-e288-c6660bb6e776"
      },
      "execution_count": null,
      "outputs": [
        {
          "output_type": "stream",
          "name": "stdout",
          "text": [
            "a\n",
            " [[8 9 1]\n",
            " [1 2 3]\n",
            " [2 1 1]]\n",
            "b\n",
            " [[2 1 9]\n",
            " [4 3 2]\n",
            " [3 4 4]]\n",
            "c\n",
            " [[3 3]\n",
            " [1 2]\n",
            " [2 1]]\n"
          ]
        }
      ]
    },
    {
      "cell_type": "code",
      "source": [
        "# Penjumlahan\n",
        "D = A+B\n",
        "print(\"Matrix D adalah perkalian dari Matrix A dan B\\n\",D)"
      ],
      "metadata": {
        "colab": {
          "base_uri": "https://localhost:8080/"
        },
        "id": "FoHzXFG2EAZi",
        "outputId": "7dda48f3-8df6-4a7a-9a44-a3bd9cd42d63"
      },
      "execution_count": null,
      "outputs": [
        {
          "output_type": "stream",
          "name": "stdout",
          "text": [
            "Matrix D adalah perkalian dari Matrix A dan B\n",
            " [[10 10 10]\n",
            " [ 5  5  5]\n",
            " [ 5  5  5]]\n"
          ]
        }
      ]
    },
    {
      "cell_type": "markdown",
      "source": [
        "Pengurangan\n",
        "\n",
        "Konsep pada pengurangan matrix sama dengan penjulahan dimana setiap elemen matrix harus memiliki pasangan agar dapat dioperasikan, setelah dua buah matrix dioperasikan maka akan menghasilkan matrix baru yang elemennya terdiri dari hasil pengurangan elemen elemen matrix yang teroperasi"
      ],
      "metadata": {
        "id": "qJ6QnO4OY1pt"
      }
    },
    {
      "cell_type": "code",
      "source": [
        "Z = A - B\n",
        "print(\"Matrix Z adalah contoh dari hasil pengurangan MAtrix A, dan Matrix B\\n\", Z)"
      ],
      "metadata": {
        "colab": {
          "base_uri": "https://localhost:8080/"
        },
        "id": "sKoBKZiiY2qK",
        "outputId": "9c9e061e-446a-4e13-cee0-08b4c9960d67"
      },
      "execution_count": null,
      "outputs": [
        {
          "output_type": "stream",
          "name": "stdout",
          "text": [
            "Matrix Z adalah contoh dari hasil pengurangan MAtrix A, dan Matrix B\n",
            " [[ 6  8 -8]\n",
            " [-3 -1  1]\n",
            " [-1 -3 -3]]\n"
          ]
        }
      ]
    },
    {
      "cell_type": "markdown",
      "source": [
        "Perkalian\n",
        "- Perkalian matrix dengan skalar\n",
        "operasi ini dilakukan dengan cara mengalikan setiap elemen matrix dengan skalar tersebut, yang kemudian akan menghsilkan ssebuah matrix baru\n",
        ", Contoh operasi matrix skalar adalah Matrix A x 7 maka operasi yang akan diproses adalah setiap elemen pada matrix A x 7\n",
        "\n",
        "- Perkalian matrix dengan matrix\n",
        "dapat diasumsikan bahwasannya jika semisal matrix A x matrix B maka kolom dari Matrix A harus sama dengan baris Matrix. contoh operasinya adalah\n",
        "elemen dari matrix A [(a,b)] matrix B [(c,d)] = [(ac + bd)]"
      ],
      "metadata": {
        "id": "LrPl4Q0rZTAn"
      }
    },
    {
      "cell_type": "code",
      "source": [
        "# Perkalian\n",
        "E = A@B\n",
        "F = B@C\n",
        "print(\"a \\n\",A)\n",
        "print(\"b\\n\", B)\n",
        "print(\"Matrix E adalah hasil perkalian dari Matrix A dan B \\n\", E)\n",
        "print(\"Matrix F adalah hasil perkalian dari Matrix B dan C \\n\", F)\n",
        "print(\"-\"*30)\n",
        "# Perkalian Lainnya\n",
        "print(A@(B@C))\n",
        "\n",
        "print((A@B)@C)\n",
        "print(\"-\"*30)\n",
        "print(7*(A@B))\n",
        "print((7*A)@B)\n",
        "print(A@(7*B))\n",
        "print(\"-\"*30)"
      ],
      "metadata": {
        "colab": {
          "base_uri": "https://localhost:8080/"
        },
        "id": "e1HaW8duH7iv",
        "outputId": "ec4f9a74-a7f3-4693-c233-7727a2d1c378"
      },
      "execution_count": null,
      "outputs": [
        {
          "output_type": "stream",
          "name": "stdout",
          "text": [
            "a \n",
            " [[8 9 1]\n",
            " [1 2 3]\n",
            " [2 1 1]]\n",
            "b\n",
            " [[2 1 9]\n",
            " [4 3 2]\n",
            " [3 4 4]]\n",
            "Matrix E adalah hasil perkalian dari Matrix A dan B \n",
            " [[55 39 94]\n",
            " [19 19 25]\n",
            " [11  9 24]]\n",
            "Matrix F adalah hasil perkalian dari Matrix B dan C \n",
            " [[25 17]\n",
            " [19 20]\n",
            " [21 21]]\n",
            "------------------------------\n",
            "[[392 337]\n",
            " [126 120]\n",
            " [ 90  75]]\n",
            "[[392 337]\n",
            " [126 120]\n",
            " [ 90  75]]\n",
            "------------------------------\n",
            "[[385 273 658]\n",
            " [133 133 175]\n",
            " [ 77  63 168]]\n",
            "[[385 273 658]\n",
            " [133 133 175]\n",
            " [ 77  63 168]]\n",
            "[[385 273 658]\n",
            " [133 133 175]\n",
            " [ 77  63 168]]\n",
            "------------------------------\n"
          ]
        }
      ]
    },
    {
      "cell_type": "markdown",
      "source": [
        "Transpose\n",
        "\n",
        "Transpose dari sebuah matrix adalah operator yang membalikkan posisi matrix sepanjang diagonal utamanya dalam kata lain menukarkan antara baris dan kolomnya"
      ],
      "metadata": {
        "id": "jv4pIwyTczzB"
      }
    },
    {
      "cell_type": "code",
      "source": [
        "C_T= C.transpose()\n",
        "print(\"Matrix C Transpose\\n\",C_T)\n",
        "print(\"-\"*30)\n",
        "print(\"Matrix C Transpose dikali dengan Matrix C\\n\", C_T@C)\n",
        "print(\"-\"*30)\n",
        "print(\"Matrix C dikali dengan Matrix C Transpose\\n\", C@C_T)"
      ],
      "metadata": {
        "colab": {
          "base_uri": "https://localhost:8080/"
        },
        "id": "_Luk4HUAL_kC",
        "outputId": "e1dd03b0-83c7-42d2-bd86-2f32098e697f"
      },
      "execution_count": null,
      "outputs": [
        {
          "output_type": "stream",
          "name": "stdout",
          "text": [
            "Matrix C Transpose\n",
            " [[3 1 2]\n",
            " [3 2 1]]\n",
            "------------------------------\n",
            "Matrix C Transpose dikali dengan Matrix C\n",
            " [[14 13]\n",
            " [13 14]]\n",
            "------------------------------\n",
            "Matrix C dikali dengan Matrix C Transpose\n",
            " [[18  9  9]\n",
            " [ 9  5  4]\n",
            " [ 9  4  5]]\n"
          ]
        }
      ]
    },
    {
      "cell_type": "code",
      "source": [
        "# Manual operasi perkalian matrix\n",
        "m1 = [[8,9,1],\n",
        "            [1,2,3],\n",
        "            [2,1,1]]\n",
        "\n",
        "m2 = [[2,1,9],\n",
        "            [4,3,2],\n",
        "            [3,4,4]]\n",
        "Result = []\n",
        "\n",
        "def multiply_matrix(matrix1,matrix2):\n",
        "  result = [[0,0,0],[0,0,0],[0,0,0]] # Menginisialisasikan dulu matrix dengan semua value 0\n",
        "\n",
        "  for i in range(len(m1)):\n",
        "    for j in range(len(m2)):\n",
        "      for k in range(len(m2)):\n",
        "        result[i][j] += m1[i][k] * m2[k][j]\n",
        "  return result\n",
        "\n",
        "hasil = multiply_matrix(m1,m2)\n",
        "print(f\"Hasil perkalian Matrix_1 dan Matrix 2 = {hasil}\")\n",
        "print(f\"Pembuktian untuk Matrix A @ B =\\n{A @ B}\")"
      ],
      "metadata": {
        "colab": {
          "base_uri": "https://localhost:8080/"
        },
        "id": "AAUeKmnXTaTG",
        "outputId": "e096b2ad-ad1e-46ae-95b3-40b162a7ed0f"
      },
      "execution_count": null,
      "outputs": [
        {
          "output_type": "stream",
          "name": "stdout",
          "text": [
            "Hasil perkalian Matrix_1 dan Matrix 2 = [[55, 39, 94], [19, 19, 25], [11, 9, 24]]\n",
            "Pembuktian untuk Matrix A @ B =\n",
            "[[55 39 94]\n",
            " [19 19 25]\n",
            " [11  9 24]]\n"
          ]
        }
      ]
    }
  ]
}